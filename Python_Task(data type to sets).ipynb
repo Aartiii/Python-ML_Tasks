{
 "cells": [
  {
   "cell_type": "markdown",
   "metadata": {},
   "source": [
    "__Task 1__ <br>\n",
    "str1 = \"Welcome to python\" <br>\n",
    " [check \"to\" is present in string]"
   ]
  },
  {
   "cell_type": "code",
   "execution_count": 1,
   "metadata": {},
   "outputs": [
    {
     "name": "stdout",
     "output_type": "stream",
     "text": [
      "String is present\n"
     ]
    }
   ],
   "source": [
    "str1 = \"Welcome to Python\"\n",
    "if \"to\" in str1 :\n",
    "    print (\"String is present\")\n",
    "else : \n",
    "    print (\"String is not present\")"
   ]
  },
  {
   "cell_type": "markdown",
   "metadata": {},
   "source": [
    "__Task 2__ <br>\n",
    "create a list of lenght = 10 and access 5th to 8th data."
   ]
  },
  {
   "cell_type": "code",
   "execution_count": 2,
   "metadata": {},
   "outputs": [
    {
     "data": {
      "text/plain": [
       "[5, 6, 7, 8]"
      ]
     },
     "execution_count": 2,
     "metadata": {},
     "output_type": "execute_result"
    }
   ],
   "source": [
    "list1 = [0,1,2,3,4,5,6,7,8,9]\n",
    "list1[5:9]"
   ]
  },
  {
   "cell_type": "markdown",
   "metadata": {},
   "source": [
    "__Task 3__ <br>\n",
    "Add item 70 after 60 in the following Python List<br>\n",
    "input<br>\n",
    "l1 = [10, 20, [30, 40, [50, 60], 80], 90, 100]<br>\n",
    "output<br>\n",
    "[10, 20, [30, 40, [50, 60, 70], 80], 90, 100]"
   ]
  },
  {
   "cell_type": "code",
   "execution_count": 3,
   "metadata": {},
   "outputs": [],
   "source": [
    "l1 = [10, 20, [30, 40, [50, 60], 80], 90, 100]"
   ]
  },
  {
   "cell_type": "code",
   "execution_count": 4,
   "metadata": {},
   "outputs": [],
   "source": [
    "l1[2][2].insert(2,70)"
   ]
  },
  {
   "cell_type": "code",
   "execution_count": 5,
   "metadata": {},
   "outputs": [
    {
     "data": {
      "text/plain": [
       "[10, 20, [30, 40, [50, 60, 70], 80], 90, 100]"
      ]
     },
     "execution_count": 5,
     "metadata": {},
     "output_type": "execute_result"
    }
   ],
   "source": [
    "l1"
   ]
  },
  {
   "cell_type": "markdown",
   "metadata": {},
   "source": [
    "__Task 4__ <br>\n",
    "add sublist [7,8] after 6<br>\n",
    "input<br>\n",
    "l2 = [1,2,[3,4,5,6],9]<br>\n",
    "output<br>\n",
    "[1,2,[3,4,5,6,[7,8]],9]"
   ]
  },
  {
   "cell_type": "code",
   "execution_count": 6,
   "metadata": {},
   "outputs": [],
   "source": [
    "l2 = [1,2,[3,4,5,6],9]\n",
    "l2[2].insert(4,[7,8])"
   ]
  },
  {
   "cell_type": "code",
   "execution_count": 7,
   "metadata": {},
   "outputs": [
    {
     "data": {
      "text/plain": [
       "[1, 2, [3, 4, 5, 6, [7, 8]], 9]"
      ]
     },
     "execution_count": 7,
     "metadata": {},
     "output_type": "execute_result"
    }
   ],
   "source": [
    "l2"
   ]
  },
  {
   "cell_type": "markdown",
   "metadata": {},
   "source": [
    "__Task 5__ <br>\n",
    "From the below dictionary, do the following tasks<br>\n",
    "    access \"Mike\"<br>\n",
    "    access 80 <br>\n",
    "    change \"Mike\" to \"Your name\"<br>\n",
    "    add ML = 80 and DL = 80 inside marks"
   ]
  },
  {
   "cell_type": "code",
   "execution_count": 8,
   "metadata": {},
   "outputs": [],
   "source": [
    "dict1 = { \n",
    "   \"april_batch\":{ \n",
    "      \"student\":{ \n",
    "         \"name\":\"Mike\",\n",
    "         \"marks\":{ \n",
    "            \"python\":80,\n",
    "            \"maths\":70\n",
    "         }\n",
    "      }\n",
    "   }\n",
    "}"
   ]
  },
  {
   "cell_type": "code",
   "execution_count": 9,
   "metadata": {},
   "outputs": [
    {
     "data": {
      "text/plain": [
       "'Mike'"
      ]
     },
     "execution_count": 9,
     "metadata": {},
     "output_type": "execute_result"
    }
   ],
   "source": [
    "dict1[\"april_batch\"][\"student\"][\"name\"]"
   ]
  },
  {
   "cell_type": "code",
   "execution_count": 10,
   "metadata": {},
   "outputs": [
    {
     "data": {
      "text/plain": [
       "80"
      ]
     },
     "execution_count": 10,
     "metadata": {},
     "output_type": "execute_result"
    }
   ],
   "source": [
    "dict1[\"april_batch\"][\"student\"][\"marks\"][\"python\"]"
   ]
  },
  {
   "cell_type": "code",
   "execution_count": 11,
   "metadata": {},
   "outputs": [
    {
     "data": {
      "text/plain": [
       "{'april_batch': {'student': {'name': 'Aarti',\n",
       "   'marks': {'python': 80, 'maths': 70}}}}"
      ]
     },
     "execution_count": 11,
     "metadata": {},
     "output_type": "execute_result"
    }
   ],
   "source": [
    "dict1[\"april_batch\"][\"student\"][\"name\"]=\"Aarti\"\n",
    "dict1"
   ]
  },
  {
   "cell_type": "code",
   "execution_count": 12,
   "metadata": {},
   "outputs": [
    {
     "data": {
      "text/plain": [
       "{'april_batch': {'student': {'name': 'Aarti',\n",
       "   'marks': {'python': 80, 'maths': 70, 'ML': 80, 'DL': 80}}}}"
      ]
     },
     "execution_count": 12,
     "metadata": {},
     "output_type": "execute_result"
    }
   ],
   "source": [
    "dict2 = {\"ML\":80,\"DL\":80}\n",
    "dict1[\"april_batch\"][\"student\"][\"marks\"].update(dict2)\n",
    "dict1"
   ]
  },
  {
   "cell_type": "markdown",
   "metadata": {},
   "source": [
    "__Task 6__<br>\n",
    "Add and Remove element from tuple"
   ]
  },
  {
   "cell_type": "code",
   "execution_count": 13,
   "metadata": {},
   "outputs": [
    {
     "data": {
      "text/plain": [
       "(10, 20, 30, 40, 50, 60)"
      ]
     },
     "execution_count": 13,
     "metadata": {},
     "output_type": "execute_result"
    }
   ],
   "source": [
    "#Add element in tuple (add 60)\n",
    "tup1=(10,20,30,40,50)\n",
    "list1=list(tup1)\n",
    "list1.insert(5,60)\n",
    "tup1=tuple(list1)\n",
    "tup1"
   ]
  },
  {
   "cell_type": "code",
   "execution_count": 14,
   "metadata": {},
   "outputs": [
    {
     "data": {
      "text/plain": [
       "(10, 20, 30, 40)"
      ]
     },
     "execution_count": 14,
     "metadata": {},
     "output_type": "execute_result"
    }
   ],
   "source": [
    "#Remove element in tuple (remove 50)\n",
    "tup1=(10,20,30,40,50)\n",
    "list1=list(tup1)\n",
    "list1.pop(4)\n",
    "tup1=tuple(list1)\n",
    "tup1"
   ]
  },
  {
   "cell_type": "markdown",
   "metadata": {},
   "source": [
    "__Task 7__<br>\n",
    "Go through below inbuit methods<br>\n",
    "1) difference() 2) symmetric_difference()"
   ]
  },
  {
   "cell_type": "code",
   "execution_count": 15,
   "metadata": {},
   "outputs": [
    {
     "name": "stdout",
     "output_type": "stream",
     "text": [
      "A-B :  {10, 20}\n",
      "B-A :  {50, 60}\n"
     ]
    }
   ],
   "source": [
    "#The difference() method returns the set difference of two sets.\n",
    "A = {10,20,30,40}\n",
    "B = {30,40,50,60}\n",
    "# Equivalent to A-B\n",
    "print(\"A-B : \",A.difference(B))\n",
    "# Equivalent to B-A\n",
    "print(\"B-A : \",B.difference(A))"
   ]
  },
  {
   "cell_type": "code",
   "execution_count": 16,
   "metadata": {},
   "outputs": [
    {
     "name": "stdout",
     "output_type": "stream",
     "text": [
      "{'a', 'e', 'b'}\n",
      "{'a', 'e', 'b'}\n",
      "{'a', 'b', 'c', 'd'}\n",
      "{'e', 'c', 'd'}\n"
     ]
    }
   ],
   "source": [
    "#Python symmetric_difference() method returns the symmetric difference of two sets.\n",
    "A = {'a', 'b', 'c', 'd'}\n",
    "B = {'c', 'd', 'e' }\n",
    "C = {}\n",
    "print(A.symmetric_difference(B))\n",
    "print(B.symmetric_difference(A))\n",
    "\n",
    "print(A.symmetric_difference(C))\n",
    "print(B.symmetric_difference(C))"
   ]
  }
 ],
 "metadata": {
  "kernelspec": {
   "display_name": "Python 3",
   "language": "python",
   "name": "python3"
  },
  "language_info": {
   "codemirror_mode": {
    "name": "ipython",
    "version": 3
   },
   "file_extension": ".py",
   "mimetype": "text/x-python",
   "name": "python",
   "nbconvert_exporter": "python",
   "pygments_lexer": "ipython3",
   "version": "3.8.5"
  }
 },
 "nbformat": 4,
 "nbformat_minor": 4
}
