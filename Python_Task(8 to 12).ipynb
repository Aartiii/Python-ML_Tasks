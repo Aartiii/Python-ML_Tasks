{
 "cells": [
  {
   "cell_type": "markdown",
   "metadata": {},
   "source": [
    "__Task 8__<br>\n",
    "Ask 2 numbers from users and store it in num1 and num2<br>\n",
    "Ask user to press 1 for addition,2 for subtraction,3 for multiplication and 4 for division<br>\n",
    "based on number given by user do the math operation<br>"
   ]
  },
  {
   "cell_type": "code",
   "execution_count": 1,
   "metadata": {},
   "outputs": [
    {
     "name": "stdout",
     "output_type": "stream",
     "text": [
      "Enter First Number: 50\n",
      "Enter Second Number: 10\n",
      "Enter 1:Addition, 2:Subtraction, 3:Multiplication, 4:Division2\n",
      "Result is :  40\n"
     ]
    }
   ],
   "source": [
    "num1 = int(input(\"Enter First Number: \"))\n",
    "num2 = int(input(\"Enter Second Number: \"))\n",
    "\n",
    "ch = int(input(\"Enter 1:Addition, 2:Subtraction, 3:Multiplication, 4:Division\"))\n",
    "result = 0\n",
    "if ch == 1:\n",
    "    result = num1 + num2\n",
    "elif ch == 2:\n",
    "    result = num1 - num2\n",
    "elif ch == 3:\n",
    "    result = num1 * num2\n",
    "elif ch == 4:\n",
    "    result = num1 / num2\n",
    "else:\n",
    "    print(\"Input character is not recognized!\")\n",
    "\n",
    "print(\"Result is : \",result)"
   ]
  },
  {
   "cell_type": "markdown",
   "metadata": {},
   "source": [
    "__Task 9.1__<br>\n",
    "What is the usage of continue wiith an example"
   ]
  },
  {
   "cell_type": "code",
   "execution_count": 2,
   "metadata": {},
   "outputs": [
    {
     "name": "stdout",
     "output_type": "stream",
     "text": [
      "1\n",
      "2\n",
      "3\n",
      "4\n",
      "5\n",
      "6\n",
      "End of For Loop\n"
     ]
    }
   ],
   "source": [
    "#Continue : Skip perticular iteration and continue to next\n",
    "for i in \"123A456\":\n",
    "    if i == \"A\":\n",
    "        continue\n",
    "    print(i)\n",
    "\n",
    "print(\"End of For Loop\")"
   ]
  },
  {
   "cell_type": "markdown",
   "metadata": {},
   "source": [
    "__Task 9.2__<br>\n",
    "What is pass keyword, with example"
   ]
  },
  {
   "cell_type": "code",
   "execution_count": 3,
   "metadata": {},
   "outputs": [],
   "source": [
    "#pass : null statement \n",
    "for i in range(10):\n",
    "    pass"
   ]
  },
  {
   "cell_type": "markdown",
   "metadata": {},
   "source": [
    "__Task 10__<br>\n",
    "Using while loop print numbers from 10 to 1<br>\n",
    "Try using for over tuples,sets and dictionaries<br>"
   ]
  },
  {
   "cell_type": "code",
   "execution_count": 4,
   "metadata": {},
   "outputs": [
    {
     "name": "stdout",
     "output_type": "stream",
     "text": [
      "10\n",
      "9\n",
      "8\n",
      "7\n",
      "6\n",
      "5\n",
      "4\n",
      "3\n",
      "2\n",
      "1\n",
      "End of while loop\n"
     ]
    }
   ],
   "source": [
    "#1. print 10 to 1 using while\n",
    "n = 10\n",
    "i = 1\n",
    "while n>=i :\n",
    "    print(n)\n",
    "    n = n-1\n",
    "else :\n",
    "    print(\"End of while loop\")"
   ]
  },
  {
   "cell_type": "code",
   "execution_count": 5,
   "metadata": {},
   "outputs": [
    {
     "name": "stdout",
     "output_type": "stream",
     "text": [
      "1\n",
      "2\n",
      "3\n",
      "4\n",
      "5\n"
     ]
    }
   ],
   "source": [
    "#For loop over tuples, sets , dict.\n",
    "tup1 = (1,2,3,4,5)\n",
    "for x in tup1:\n",
    "    print(x) "
   ]
  },
  {
   "cell_type": "code",
   "execution_count": 8,
   "metadata": {},
   "outputs": [
    {
     "name": "stdout",
     "output_type": "stream",
     "text": [
      "red\n",
      "blue\n",
      "yellow\n"
     ]
    }
   ],
   "source": [
    "Set1 = {\"red\",\"yellow\",\"blue\"}\n",
    " \n",
    "for color in Set1:\n",
    "    print(color)"
   ]
  },
  {
   "cell_type": "code",
   "execution_count": 9,
   "metadata": {},
   "outputs": [
    {
     "name": "stdout",
     "output_type": "stream",
     "text": [
      "Keys are : \n",
      "color\n",
      "fruit\n",
      "pet\n",
      "Values are : \n",
      "blue\n",
      "apple\n",
      "dog\n"
     ]
    }
   ],
   "source": [
    "dict1 = {'color': 'blue', 'fruit': 'apple', 'pet': 'dog'}\n",
    "\n",
    "print(\"Keys are : \")\n",
    "for key in dict1.keys():\n",
    "    print(key)\n",
    "print(\"Values are : \")\n",
    "for val in dict1.values():\n",
    "    print(val)"
   ]
  },
  {
   "cell_type": "markdown",
   "metadata": {},
   "source": [
    "__Task 11.1__<br>\n",
    "Explain Return keyword with example."
   ]
  },
  {
   "cell_type": "code",
   "execution_count": 10,
   "metadata": {},
   "outputs": [
    {
     "name": "stdout",
     "output_type": "stream",
     "text": [
      "1\n",
      "2\n",
      "5\n"
     ]
    }
   ],
   "source": [
    "#Return Keyword  : function returns a value\n",
    "def my_function(x):\n",
    "    return 50 % x\n",
    "\n",
    "print(my_function(7))\n",
    "print(my_function(8))\n",
    "print(my_function(9))"
   ]
  },
  {
   "cell_type": "markdown",
   "metadata": {},
   "source": [
    "__Task 11.2__<br>\n",
    "Ask 2 numbers from users and store it in num1 and num2<br>\n",
    "Ask user to press 1 for addition,2 for subtraction,3 for multiplication and 4 for division<br>\n",
    "Create 4 seperate functions for each operation (i.e. addition,subtraction,multiplication and division)<br>\n",
    "Based on number given by user,call that perticular function and print the output"
   ]
  },
  {
   "cell_type": "code",
   "execution_count": 16,
   "metadata": {},
   "outputs": [
    {
     "name": "stdout",
     "output_type": "stream",
     "text": [
      "Please enter the first number: 60\n",
      "Please enter the second number: 6\n",
      "Please select the operation.\n",
      "1. Add\n",
      "2. Subtract\n",
      "3. Multiply\n",
      "4. Divide\n",
      "Please enter choice (1/2/3/4): 2\n",
      "60  -  6  =  54\n"
     ]
    }
   ],
   "source": [
    "#define function    \n",
    "def add(P, Q):    \n",
    "    return P + Q   \n",
    "def subtract(P, Q):   \n",
    "    return P - Q   \n",
    "def multiply(P, Q):   \n",
    "    return P * Q   \n",
    "def divide(P, Q):   \n",
    "    return P / Q \n",
    "\n",
    "#Accept the number from user\n",
    "num1 = int (input (\"Please enter the first number: \"))    \n",
    "num2 = int (input (\"Please enter the second number: \"))    \n",
    " \n",
    "# Now we will take inputs from the user    \n",
    "print (\"Please select the operation.\")    \n",
    "print (\"1. Add\")    \n",
    "print (\"2. Subtract\")    \n",
    "print (\"3. Multiply\")    \n",
    "print (\"4. Divide\")    \n",
    "choice = int (input(\"Please enter choice (1/2/3/4): \"))    \n",
    "    \n",
    "if choice == 1:    \n",
    "    print (num1, \" + \", num2, \" = \", add(num1, num2))    \n",
    "    \n",
    "elif choice == 2:    \n",
    "    print (num1, \" - \", num2, \" = \", subtract(num1, num2))    \n",
    "    \n",
    "elif choice == 3:    \n",
    "    print (num1, \" * \", num2, \" = \", multiply(num1, num2))    \n",
    "elif choice == 4:    \n",
    "    print (num1, \" / \", num2, \" = \", divide(num1, num2))    \n",
    "else:    \n",
    "    print (\"Input character is not recognized!\")\n"
   ]
  },
  {
   "cell_type": "markdown",
   "metadata": {},
   "source": [
    "__Task 12__<br> \n",
    "Use below methods<br>\n",
    "1. reduce()<br>\n",
    "2. zip()<br>\n",
    "3. enumerate()<br>"
   ]
  },
  {
   "cell_type": "code",
   "execution_count": 13,
   "metadata": {},
   "outputs": [
    {
     "name": "stdout",
     "output_type": "stream",
     "text": [
      "20\n"
     ]
    }
   ],
   "source": [
    "#Reduce : Reduce allows you to perform cumulative tasks on your iterables.\n",
    "from functools import reduce\n",
    "list1=[2,3,4,5,6]\n",
    "add=reduce(lambda a,b:a+b,list1)\n",
    "print(add)"
   ]
  },
  {
   "cell_type": "code",
   "execution_count": 14,
   "metadata": {},
   "outputs": [
    {
     "name": "stdout",
     "output_type": "stream",
     "text": [
      "[('siya', 40, 90), ('riya', 76, 66), ('niya', 24, 78)]\n"
     ]
    }
   ],
   "source": [
    "#ZIP : With zip you can combine multiple iterables into one data structure.\n",
    "names = [\"siya\",\"riya\",\"niya\"]\n",
    "sub1 = [40,76,24]\n",
    "sub2 = [90,66,78]\n",
    "student_performance = list( zip( names,sub1,sub2 ) )\n",
    "print(student_performance)"
   ]
  },
  {
   "cell_type": "code",
   "execution_count": 15,
   "metadata": {},
   "outputs": [
    {
     "name": "stdout",
     "output_type": "stream",
     "text": [
      "[(0, 'a'), (1, 'b'), (2, 'c'), (3, 'a'), (4, 'b'), (5, 'c')]\n"
     ]
    }
   ],
   "source": [
    "#Enumerate() adds a counter to an iterable and returns it in a form of enumerating object.\n",
    "my_enumerate = lambda x: [(i, x[i]) for i in range(len(x))]\n",
    "a = [\"a\", \"b\", \"c\", \"a\", \"b\", \"c\"]\n",
    "print (my_enumerate(a))"
   ]
  }
 ],
 "metadata": {
  "kernelspec": {
   "display_name": "Python 3",
   "language": "python",
   "name": "python3"
  },
  "language_info": {
   "codemirror_mode": {
    "name": "ipython",
    "version": 3
   },
   "file_extension": ".py",
   "mimetype": "text/x-python",
   "name": "python",
   "nbconvert_exporter": "python",
   "pygments_lexer": "ipython3",
   "version": "3.8.5"
  }
 },
 "nbformat": 4,
 "nbformat_minor": 4
}
